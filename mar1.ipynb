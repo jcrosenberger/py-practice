{
 "cells": [
  {
   "cell_type": "code",
   "execution_count": 7,
   "id": "745a954b-8384-4ea2-9b05-d9db4fd18ac8",
   "metadata": {},
   "outputs": [],
   "source": [
    "import numpy as np"
   ]
  },
  {
   "cell_type": "markdown",
   "id": "b3635d35-2ade-403d-9a53-20da1ba0969b",
   "metadata": {},
   "source": [
    "# 1\n",
    "say 'hello, world!'"
   ]
  },
  {
   "cell_type": "code",
   "execution_count": 1,
   "id": "1d6de58b-9244-4d29-a739-77dfb2bae2d2",
   "metadata": {},
   "outputs": [
    {
     "name": "stdout",
     "output_type": "stream",
     "text": [
      "Hello, World!\n"
     ]
    }
   ],
   "source": [
    "print('Hello, World!')"
   ]
  },
  {
   "cell_type": "markdown",
   "id": "2ddb7d91-cf32-4b06-8e07-4230e8b84935",
   "metadata": {},
   "source": [
    "# 2\n",
    "## Given an integer, n , perform the following conditional actions:\n",
    "- If n is odd, print Weird\n",
    "- If n is even and in the inclusive range of 2 to 5, print Not Weird\n",
    "- If n  is even and in the inclusive range of 6 to 20, print Weird\n",
    "- If n  is even and greater than 20, print Not Weird"
   ]
  },
  {
   "cell_type": "code",
   "execution_count": 6,
   "id": "065e5f83-9f8e-4415-8ca9-eb5d8440d4a6",
   "metadata": {},
   "outputs": [
    {
     "name": "stdin",
     "output_type": "stream",
     "text": [
      " 5\n"
     ]
    },
    {
     "name": "stdout",
     "output_type": "stream",
     "text": [
      "Weird\n"
     ]
    }
   ],
   "source": [
    "\n",
    "if __name__ == '__main__':\n",
    "    n = int(input().strip())\n",
    "\n",
    "    if n % 2 != 0:\n",
    "        print('Weird')\n",
    "    elif n < 6 and n > 1:\n",
    "        print('Not Weird')\n",
    "    elif n > 5 and n < 21:\n",
    "        print('Weird')\n",
    "    elif n > 20:\n",
    "        print('Not Weird')"
   ]
  },
  {
   "cell_type": "code",
   "execution_count": 4,
   "id": "908609c2-b80e-4a46-b3d2-d182f03a516d",
   "metadata": {},
   "outputs": [
    {
     "name": "stdout",
     "output_type": "stream",
     "text": [
      "Weird\n"
     ]
    }
   ],
   "source": [
    "fun(5)"
   ]
  },
  {
   "cell_type": "code",
   "execution_count": 5,
   "id": "0b2aa06e-8b96-47af-9097-973647f9da8d",
   "metadata": {},
   "outputs": [
    {
     "name": "stdout",
     "output_type": "stream",
     "text": [
      "Not Weird\n",
      "Weird\n",
      "Not Weird\n"
     ]
    },
    {
     "data": {
      "text/plain": [
       "(None, None, None)"
      ]
     },
     "execution_count": 5,
     "metadata": {},
     "output_type": "execute_result"
    }
   ],
   "source": [
    "fun(4), fun(6), fun(22)"
   ]
  },
  {
   "cell_type": "markdown",
   "id": "1bef761e-0e80-42a6-9247-a5accb2ce99f",
   "metadata": {},
   "source": [
    "# 3\n",
    "## The provided code stub reads two integers from STDIN, A and B. Add code to print three lines where:\n",
    "- The first line contains the sum of the two numbers.\n",
    "- The second line contains the difference of the two numbers (first - second).\n",
    "- The third line contains the product of the two numbers.\n"
   ]
  },
  {
   "cell_type": "code",
   "execution_count": null,
   "id": "bd33e55f-3a32-4dfb-bf40-2224568d0e08",
   "metadata": {},
   "outputs": [],
   "source": []
  }
 ],
 "metadata": {
  "kernelspec": {
   "display_name": "Python 3 (ipykernel)",
   "language": "python",
   "name": "python3"
  },
  "language_info": {
   "codemirror_mode": {
    "name": "ipython",
    "version": 3
   },
   "file_extension": ".py",
   "mimetype": "text/x-python",
   "name": "python",
   "nbconvert_exporter": "python",
   "pygments_lexer": "ipython3",
   "version": "3.11.1"
  }
 },
 "nbformat": 4,
 "nbformat_minor": 5
}
